{
 "cells": [
  {
   "cell_type": "markdown",
   "metadata": {},
   "source": [
    "# Laboratorio 5\n",
    "## Security Data Science\n",
    "### Manuel Archila"
   ]
  },
  {
   "cell_type": "markdown",
   "metadata": {},
   "source": [
    "#### Importar librerias"
   ]
  },
  {
   "cell_type": "code",
   "execution_count": 2,
   "metadata": {},
   "outputs": [],
   "source": [
    "import pandas as pd\n",
    "from clasificador import *\n",
    "import json"
   ]
  },
  {
   "cell_type": "markdown",
   "metadata": {},
   "source": [
    "#### 1. Leer el json"
   ]
  },
  {
   "cell_type": "code",
   "execution_count": 3,
   "metadata": {},
   "outputs": [
    {
     "name": "stdout",
     "output_type": "stream",
     "text": [
      "Total de registros: 746909\n"
     ]
    }
   ],
   "source": [
    "\n",
    "file_path = './large_eve.json'\n",
    "\n",
    "\n",
    "data = []\n",
    "with open(file_path, 'r') as file:\n",
    "    for line in file:\n",
    "        record = json.loads(line) \n",
    "        data.append(record)\n",
    "\n",
    "\n",
    "total_records = len(data)\n",
    "print(f'Total de registros: {total_records}')\n"
   ]
  },
  {
   "cell_type": "markdown",
   "metadata": {},
   "source": [
    "#### 2. Filtrar por DNS"
   ]
  },
  {
   "cell_type": "code",
   "execution_count": 4,
   "metadata": {},
   "outputs": [
    {
     "name": "stdout",
     "output_type": "stream",
     "text": [
      "Total de registros DNS: 15749\n"
     ]
    }
   ],
   "source": [
    "dns_records = [record for record in data if record['event_type'] == 'dns']\n",
    "total_dns_records = len(dns_records)\n",
    "print(f'Total de registros DNS: {total_dns_records}')"
   ]
  },
  {
   "cell_type": "markdown",
   "metadata": {},
   "source": [
    "#### 3. Normalizar el json y hacer el dataset"
   ]
  },
  {
   "cell_type": "code",
   "execution_count": 5,
   "metadata": {},
   "outputs": [
    {
     "data": {
      "text/plain": [
       "(15749, 18)"
      ]
     },
     "execution_count": 5,
     "metadata": {},
     "output_type": "execute_result"
    }
   ],
   "source": [
    "df_normalized = pd.json_normalize(dns_records)\n",
    "df_normalized.shape"
   ]
  },
  {
   "cell_type": "markdown",
   "metadata": {},
   "source": [
    "#### 4. Filtrar por DNS tipo A"
   ]
  },
  {
   "cell_type": "code",
   "execution_count": 6,
   "metadata": {},
   "outputs": [
    {
     "name": "stdout",
     "output_type": "stream",
     "text": [
      "Total de registros DNS tipo A: 2849\n",
      "(2849, 18)\n"
     ]
    }
   ],
   "source": [
    "dns_a_records = df_normalized[(df_normalized['event_type'] == 'dns') & (df_normalized['dns.rrtype'] == 'A')]\n",
    "# Contamos el número de registros después del filtrado\n",
    "num_dns_a_records = len(dns_a_records)\n",
    "print(f'Total de registros DNS tipo A: {num_dns_a_records}')\n",
    "print(dns_a_records.shape)"
   ]
  },
  {
   "cell_type": "markdown",
   "metadata": {},
   "source": [
    "#### 5. Filtrar por nombres de dominios unicos"
   ]
  },
  {
   "cell_type": "code",
   "execution_count": 7,
   "metadata": {},
   "outputs": [
    {
     "name": "stdout",
     "output_type": "stream",
     "text": [
      "['api.wunderground.com' 'stork79.dropbox.com'\n",
      " 'hpca-tier2.office.aol.com.ad.aol.aoltw.net'\n",
      " 'safebrowsing.clients.google.com.home' 'fxfeeds.mozilla.com'\n",
      " 'www.metasploit.com' 'aolmtcmxm03.office.aol.com'\n",
      " 'aolmtcmxm02.office.aol.com.ad.aol.aoltw.net'\n",
      " 'aolmtcmxm02.office.aol.com' 'hpca-tier2.office.aol.com'\n",
      " 'aolmtcmxm03.office.aol.com.ad.aol.aoltw.net'\n",
      " 'aolmtcmxm04.office.aol.com' 'safebrowsing.clients.google.com'\n",
      " 'wpad.home' 'safebrowsing.clients.google.com.stayonline.net'\n",
      " 'aolmtcmxm04.office.aol.com.ad.aol.aoltw.net'\n",
      " 'AOLDTCMA04.ad.aol.aoltw.net.office.aol.com' 'AOLDTCMA04.office.aol.com'\n",
      " '192.168.22.110phpmyadmin' 'secure.informaction.com'\n",
      " 'secure.informaction.com.localdomain'\n",
      " 'safebrowsing.clients.google.com.localdomain' 'ueip.vmware.com'\n",
      " 'en-us.fxfeeds.mozilla.com' '192.168.22.110phpmyadmin.localdomain'\n",
      " 'time.windows.com' 'softwareupdate.vmware.com' 'proxim.ntkrnlpa.info'\n",
      " 'portswigger.net' 'www.offensive-security.com'\n",
      " 'www.offensive-security.com.stayonline.net' 'www.stopbadware.org'\n",
      " 'AOLDTCMA04.ad.aol.aoltw.net' 'gg.arrancar.org' 'www.sql-ledger.org'\n",
      " 'www.backtrack-linux.org' 'www.backtrack-linux.org.stayonline.net'\n",
      " 'en-us.start3.mozilla.com' 'www.theanime.cn' 'www.theanime.cn. '\n",
      " 'wpad.aol.aoltw.net' 'wpad.aoltw.net' 'tools.google.com.ad.aol.aoltw.net'\n",
      " 'safebrowsing.clients.google.com.hackerlabs.vpn'\n",
      " 'secure.informaction.com.stayonline.net' 'wpad.ad.aol.aoltw.net'\n",
      " 'knoa-coll.ops.aol.com' 'knoa-coll.ops.aol.com.ad.aol.aoltw.net'\n",
      " 'www.phpmyadmin.net' 'tools.google.com'\n",
      " 'toolbarqueries.clients.google.com' 'teredo.ipv6.microsoft.com'\n",
      " 'secure.informaction.com.home'\n",
      " 'toolbarqueries.clients.google.com.ad.aol.aoltw.net'\n",
      " 'secure.informaction.com.hsd1.pa.comcast.net' 'clients1.google.com'\n",
      " 'clients1.google.com.ad.aol.aoltw.net' 'ntp.ubuntu.com'\n",
      " 'en-us.www.mozilla.com' 'data.alexa.com' 'www.postgresql.org'\n",
      " 'sourceforge.net' 'www.freepbx.org'\n",
      " 'secure.informaction.com.hackerlabs.vpn' 'www.bigflickrfeed.com'\n",
      " 'www.gnu.org' 'wpad' 'safebrowsing.clients.google.com.lan'\n",
      " 'www.google.com' 'safebrowsing.clients.google.com.hsd1.pa.comcast.net'\n",
      " 'phppgadmin.sourceforge.net' '\"192.168.206.56\"' 'freepbx.org'\n",
      " 'erp.acunetix.com' 'www.acunetix.com' 'go.microsoft.com'\n",
      " 'download.windowsupdate.com' 'www.update.microsoft.com' 'api.flickr.com'\n",
      " 'widgets.alexa.com' 'download.microsoft.com'\n",
      " 'safebrowsing.clients.google.com.office.aol.com' 'www.malwarecity.com'\n",
      " 'api.facebook.com' 'www.sql-ledger.org.hsd1.pa.comcast.net'\n",
      " 'www.offensive-security.com.hsd1.pa.comcast.net' 'www.securityfocus.com'\n",
      " 'sync.xmarks.com' '192.168.26-27.0' 'www.cakephp.org' 'ky.hec.net'\n",
      " 'google.com' 'mirrors.adams.net' 'mirror.its.uidaho.edu'\n",
      " 'mirrors.cat.pdx.edu' 'mirror.clarkson.edu' 'mirror.rackspace.com'\n",
      " 'mirrors.ecvps.com' 'centos.cs.wisc.edu' 'centos.mirror.facebook.net'\n",
      " 'mirrors.easynews.com' 'mirrors.bluehost.com'\n",
      " 'centos.mirror.netriplex.com' 'mirror.stanford.edu' 'mirrors.tummy.com'\n",
      " 'mirror.ash.fastserv.com' 'mirrors.kernel.org' 'mirror.hmc.edu'\n",
      " 'mirrors.liquidweb.com' 'mirror.5ninesolutions.com'\n",
      " 'mirror.san.fastserv.com' 'updates.interworx.info' 'ftp.wallawalla.edu'\n",
      " 'mirror.sanctuaryhost.com' 'mirror.team-cymru.org' 'mirror.umoss.org'\n",
      " 'mirrors.gigenet.com' 'mirrors.xmission.com' 'repo.genomics.upenn.edu'\n",
      " 'centos.mirrors.tds.net' 'mirror.nyi.net' 'mirror.atlantic.net'\n",
      " 'ftp.usf.edu' 'mirror.rocketinternet.net' 'mirrors.rit.edu'\n",
      " 'clients5.google.com' 'FL' 'www.apple.com' 'internalcheck.apple.com'\n",
      " 'cloud.xmarks.com' 'www.metasploit.com.office.aol.com' 'saruman'\n",
      " 'clients2.google.com' '192.168.21.1201.stayonline.net'\n",
      " 'clients2.google.com.ad.aol.aoltw.net' '192.168.21.1201' ''\n",
      " 'fileservices.me.com' 'configuration.apple.com'\n",
      " 'r1s6i7.connectivity.me.com' 'images.apple.com' 'news.google.com'\n",
      " 'gdata.youtube.com' 'aosnotify.me.com' 'dns.msftncsi.com' 'kodapp.com'\n",
      " 'rc.threatspace.net' 'www.msftncsi.com' 'ul.backblaze.com'\n",
      " 'www.social-engineer.org' 'activex.microsoft.com' 'whitecell.localdomain'\n",
      " 'www.arduino.cc' 'secure.informaction.com.office.aol.com' 'www.mac.com'\n",
      " 'gfe.nvidia.com' 'addons.mozilla.org' 'versioncheck.addons.mozilla.org'\n",
      " 'idisk.mac.com' 'www.nagios.org' 'vtlfccmfxlkgifuf.com'\n",
      " 'linkhelp.clients.google.com.ad.aol.aoltw.net' 'update.macromates.com'\n",
      " '1922.168.22.254' 'linkhelp.clients.google.com' '1922.168.22.254.home'\n",
      " '192.168.21-28.0' 'ejfodfmfxlkgifuf.xyz' '192.168.21-28.0.home'\n",
      " '192.168.22.201:' 'aoldtcmds01.office.aol.com'\n",
      " 'aoldtcmds01.office.aol.com.ad.aol.aoltw.net'\n",
      " 'ntp.ubuntu.com.localdomain' 'redir.metaservices.microsoft.com'\n",
      " 'ocsp.verisign.com' '192.168.22.201:.stayonline.net'\n",
      " 'client-software.real.com']\n",
      "Número de dominios únicos: 177\n"
     ]
    }
   ],
   "source": [
    "unique_domains = dns_a_records['dns.rrname'].unique()\n",
    "print(unique_domains)\n",
    "\n",
    "# Contar el número de dominios únicos\n",
    "num_unique_domains = len(unique_domains)\n",
    "print(f'Número de dominios únicos: {num_unique_domains}')"
   ]
  },
  {
   "cell_type": "markdown",
   "metadata": {},
   "source": [
    "#### 6. Corregir los tlds"
   ]
  },
  {
   "cell_type": "code",
   "execution_count": 8,
   "metadata": {},
   "outputs": [],
   "source": [
    "def obtener_tld_corregido(domain):\n",
    "    parts = domain.split('.')\n",
    "    for i in range(len(parts) - 1, 0, -1):\n",
    "        tld_potencial = '.'.join(parts[i:])\n",
    "        if tld_potencial in [\"com\", \"net\", \"org\", \"gov\", \"edu\", \"mil\", \"arpa\", \"int\"]:\n",
    "            continue\n",
    "        else:\n",
    "            return tld_potencial \n",
    "    return domain"
   ]
  },
  {
   "cell_type": "code",
   "execution_count": 9,
   "metadata": {},
   "outputs": [],
   "source": [
    "tlds = [obtener_tld_corregido(dominio) for dominio in unique_domains]"
   ]
  },
  {
   "cell_type": "code",
   "execution_count": 10,
   "metadata": {},
   "outputs": [
    {
     "data": {
      "text/html": [
       "<div>\n",
       "<style scoped>\n",
       "    .dataframe tbody tr th:only-of-type {\n",
       "        vertical-align: middle;\n",
       "    }\n",
       "\n",
       "    .dataframe tbody tr th {\n",
       "        vertical-align: top;\n",
       "    }\n",
       "\n",
       "    .dataframe thead th {\n",
       "        text-align: right;\n",
       "    }\n",
       "</style>\n",
       "<table border=\"1\" class=\"dataframe\">\n",
       "  <thead>\n",
       "    <tr style=\"text-align: right;\">\n",
       "      <th></th>\n",
       "      <th>domain_tld</th>\n",
       "    </tr>\n",
       "  </thead>\n",
       "  <tbody>\n",
       "    <tr>\n",
       "      <th>0</th>\n",
       "      <td>wunderground.com</td>\n",
       "    </tr>\n",
       "    <tr>\n",
       "      <th>1</th>\n",
       "      <td>dropbox.com</td>\n",
       "    </tr>\n",
       "    <tr>\n",
       "      <th>2</th>\n",
       "      <td>aoltw.net</td>\n",
       "    </tr>\n",
       "    <tr>\n",
       "      <th>3</th>\n",
       "      <td>home</td>\n",
       "    </tr>\n",
       "    <tr>\n",
       "      <th>4</th>\n",
       "      <td>mozilla.com</td>\n",
       "    </tr>\n",
       "  </tbody>\n",
       "</table>\n",
       "</div>"
      ],
      "text/plain": [
       "         domain_tld\n",
       "0  wunderground.com\n",
       "1       dropbox.com\n",
       "2         aoltw.net\n",
       "3              home\n",
       "4       mozilla.com"
      ]
     },
     "execution_count": 10,
     "metadata": {},
     "output_type": "execute_result"
    }
   ],
   "source": [
    "tlds_df =  pd.DataFrame({'domain_tld': tlds})\n",
    "tlds_df.head()\n"
   ]
  },
  {
   "cell_type": "markdown",
   "metadata": {},
   "source": [
    "#### 7. Clasificar usando la funcion del archivo clasificador"
   ]
  },
  {
   "cell_type": "code",
   "execution_count": 11,
   "metadata": {},
   "outputs": [
    {
     "name": "stderr",
     "output_type": "stream",
     "text": [
      "c:\\Users\\aleja\\AppData\\Local\\Programs\\Python\\Python311\\Lib\\site-packages\\sklearn\\base.py:299: UserWarning: Trying to unpickle estimator DecisionTreeClassifier from version 1.0.2 when using version 1.2.1. This might lead to breaking code or invalid results. Use at your own risk. For more info please refer to:\n",
      "https://scikit-learn.org/stable/model_persistence.html#security-maintainability-limitations\n",
      "  warnings.warn(\n"
     ]
    }
   ],
   "source": [
    "df_final = clasificacion(tlds_df)"
   ]
  },
  {
   "cell_type": "markdown",
   "metadata": {},
   "source": [
    "#### 8. Filtrar por nombre de dominios nuevamente"
   ]
  },
  {
   "cell_type": "code",
   "execution_count": 12,
   "metadata": {},
   "outputs": [
    {
     "name": "stdout",
     "output_type": "stream",
     "text": [
      "Total de dominios DGA únicos: 32\n"
     ]
    }
   ],
   "source": [
    "\n",
    "dominios_dga = df_final[df_final['isDGA'] == 1]\n",
    "\n",
    "dominios_dga_unicos = dominios_dga.drop_duplicates(subset=['domain_tld'])\n",
    "\n",
    "print(f'Total de dominios DGA únicos: {dominios_dga_unicos.shape[0]}')\n",
    "\n"
   ]
  },
  {
   "cell_type": "markdown",
   "metadata": {},
   "source": [
    "#### 9. Verificar si el dominio se encuentra en la lista de dominios comunes"
   ]
  },
  {
   "cell_type": "markdown",
   "metadata": {},
   "source": [
    "Prompt: \"Necesito una funcion que que utilice la lista de un millón de TLD que te proporcione y que devuelva 0 si el TLD se encuentra en la lista y 1 si no está. Evita cargar la lista cada vez que se busca un TLD.\""
   ]
  },
  {
   "cell_type": "code",
   "execution_count": 13,
   "metadata": {},
   "outputs": [],
   "source": [
    "import pandas as pd\n",
    "\n",
    "# Cargar la lista de TLDs desde el archivo CSV\n",
    "# Asegúrate de ajustar la ruta del archivo según donde tengas guardado 'top-1m.csv'\n",
    "lista_tld_df = pd.read_csv('./top-1m.csv', header=None, names=['rank', 'tld'])\n",
    "lista_tld = set(lista_tld_df['tld'])\n",
    "\n",
    "# Definir la función que verifica si un TLD está en la lista\n",
    "def verificar_tld(tld):\n",
    "    return 0 if tld in lista_tld else 1\n"
   ]
  },
  {
   "cell_type": "code",
   "execution_count": 14,
   "metadata": {},
   "outputs": [
    {
     "name": "stderr",
     "output_type": "stream",
     "text": [
      "C:\\Users\\aleja\\AppData\\Local\\Temp\\ipykernel_29224\\3854646683.py:1: SettingWithCopyWarning: \n",
      "A value is trying to be set on a copy of a slice from a DataFrame.\n",
      "Try using .loc[row_indexer,col_indexer] = value instead\n",
      "\n",
      "See the caveats in the documentation: https://pandas.pydata.org/pandas-docs/stable/user_guide/indexing.html#returning-a-view-versus-a-copy\n",
      "  dominios_dga_unicos['es_dga_sospechoso'] = dominios_dga_unicos['domain_tld'].apply(verificar_tld)\n"
     ]
    },
    {
     "data": {
      "text/html": [
       "<div>\n",
       "<style scoped>\n",
       "    .dataframe tbody tr th:only-of-type {\n",
       "        vertical-align: middle;\n",
       "    }\n",
       "\n",
       "    .dataframe tbody tr th {\n",
       "        vertical-align: top;\n",
       "    }\n",
       "\n",
       "    .dataframe thead th {\n",
       "        text-align: right;\n",
       "    }\n",
       "</style>\n",
       "<table border=\"1\" class=\"dataframe\">\n",
       "  <thead>\n",
       "    <tr style=\"text-align: right;\">\n",
       "      <th></th>\n",
       "      <th>domain_tld</th>\n",
       "      <th>isDGA</th>\n",
       "      <th>es_dga_sospechoso</th>\n",
       "    </tr>\n",
       "  </thead>\n",
       "  <tbody>\n",
       "    <tr>\n",
       "      <th>1</th>\n",
       "      <td>dropbox.com</td>\n",
       "      <td>1</td>\n",
       "      <td>0</td>\n",
       "    </tr>\n",
       "    <tr>\n",
       "      <th>2</th>\n",
       "      <td>aoltw.net</td>\n",
       "      <td>1</td>\n",
       "      <td>1</td>\n",
       "    </tr>\n",
       "    <tr>\n",
       "      <th>5</th>\n",
       "      <td>metasploit.com</td>\n",
       "      <td>1</td>\n",
       "      <td>0</td>\n",
       "    </tr>\n",
       "    <tr>\n",
       "      <th>18</th>\n",
       "      <td>110phpmyadmin</td>\n",
       "      <td>1</td>\n",
       "      <td>1</td>\n",
       "    </tr>\n",
       "    <tr>\n",
       "      <th>25</th>\n",
       "      <td>windows.com</td>\n",
       "      <td>1</td>\n",
       "      <td>0</td>\n",
       "    </tr>\n",
       "  </tbody>\n",
       "</table>\n",
       "</div>"
      ],
      "text/plain": [
       "        domain_tld  isDGA  es_dga_sospechoso\n",
       "1      dropbox.com      1                  0\n",
       "2        aoltw.net      1                  1\n",
       "5   metasploit.com      1                  0\n",
       "18   110phpmyadmin      1                  1\n",
       "25     windows.com      1                  0"
      ]
     },
     "execution_count": 14,
     "metadata": {},
     "output_type": "execute_result"
    }
   ],
   "source": [
    "dominios_dga_unicos['es_dga_sospechoso'] = dominios_dga_unicos['domain_tld'].apply(verificar_tld)\n",
    "dominios_dga_unicos.head()"
   ]
  },
  {
   "cell_type": "code",
   "execution_count": 29,
   "metadata": {},
   "outputs": [
    {
     "name": "stdout",
     "output_type": "stream",
     "text": [
      "Total de dominios no DGA sospechosos únicos: 10\n",
      "               domain_tld  es_dga_sospechoso\n",
      "2               aoltw.net                  1\n",
      "18          110phpmyadmin                  1\n",
      "34         sql-ledger.org                  1\n",
      "35    backtrack-linux.org                  1\n",
      "64      bigflickrfeed.com                  1\n",
      "82        malwarecity.com                  1\n",
      "89            cakephp.org                  1\n",
      "97              ecvps.com                  1\n",
      "160  vtlfccmfxlkgifuf.com                  1\n",
      "162        macromates.com                  1\n"
     ]
    }
   ],
   "source": [
    "\n",
    "dominios_no_sospechosos = dominios_dga_unicos[dominios_dga_unicos['es_dga_sospechoso'] == 1]\n",
    "\n",
    "dominios_no_sospechosos_unicos = dominios_no_sospechosos.drop_duplicates(subset=['domain_tld'])\n",
    "\n",
    "print(f'Total de dominios no DGA sospechosos únicos: {dominios_no_sospechosos_unicos.shape[0]}')\n",
    "print(dominios_no_sospechosos_unicos[['domain_tld', 'es_dga_sospechoso']])\n"
   ]
  },
  {
   "cell_type": "markdown",
   "metadata": {},
   "source": [
    "#### 10. Obtener fecha de creacion de los dominios"
   ]
  },
  {
   "cell_type": "markdown",
   "metadata": {},
   "source": [
    "Prompt: \"Necesito una función qué en base al TLD, devuelva la fecha de creación de dicho dominio\""
   ]
  },
  {
   "cell_type": "code",
   "execution_count": 30,
   "metadata": {},
   "outputs": [],
   "source": [
    "import whois\n",
    "from datetime import datetime\n",
    "\n",
    "def obtener_fecha_creacion_tld(tld):\n",
    "    \n",
    "    try:\n",
    "        # Realizar la consulta WHOIS para el TLD proporcionado\n",
    "        w = whois.whois(tld)\n",
    "        \n",
    "        # Obtener la fecha de creación desde el objeto WHOIS\n",
    "        fecha_creacion = w.creation_date\n",
    "        \n",
    "        # La fecha de creación puede ser una lista o un solo valor, dependiendo del TLD\n",
    "        if isinstance(fecha_creacion, list):\n",
    "            fecha_creacion = fecha_creacion[0]\n",
    "        \n",
    "        # Formatear la fecha de creación como string en formato 'YYYY-MM-DD'\n",
    "        if fecha_creacion:\n",
    "            if isinstance(fecha_creacion, datetime):\n",
    "                return fecha_creacion.strftime('%Y-%m-%d')\n",
    "            else:\n",
    "                return str(fecha_creacion)\n",
    "        else:\n",
    "            return \"No se pudo encontrar la fecha de creación.\"\n",
    "    except Exception as e:\n",
    "        return \"Error al buscar la fecha de creación: \" + str(e)"
   ]
  },
  {
   "cell_type": "code",
   "execution_count": 35,
   "metadata": {},
   "outputs": [],
   "source": [
    "dominios_fecha_creacion = dominios_no_sospechosos_unicos.apply(lambda x: obtener_fecha_creacion_tld(x['domain_tld']), axis=1)"
   ]
  },
  {
   "cell_type": "code",
   "execution_count": 36,
   "metadata": {},
   "outputs": [
    {
     "data": {
      "text/plain": [
       "2                                             2000-01-10\n",
       "18            No se pudo encontrar la fecha de creación.\n",
       "34                                            2000-09-08\n",
       "35                                            2009-04-29\n",
       "64     Error al buscar la fecha de creación: No match...\n",
       "82                                            2008-02-06\n",
       "89                                            2005-06-13\n",
       "97                                            2009-05-21\n",
       "160    Error al buscar la fecha de creación: No match...\n",
       "162                                           2003-02-05\n",
       "dtype: object"
      ]
     },
     "execution_count": 36,
     "metadata": {},
     "output_type": "execute_result"
    }
   ],
   "source": [
    "dominios_fecha_creacion"
   ]
  },
  {
   "cell_type": "markdown",
   "metadata": {},
   "source": [
    "### Conclusiones"
   ]
  },
  {
   "cell_type": "markdown",
   "metadata": {},
   "source": [
    "Los dominios que tienen una fecha de creación muy antigua son comunmente de entidades conocidas y respetables debido a que eran los principios de la internet publica. Es por esto que el objetivo principal eran los dominios con fechas de creación relativamente recientes. Al observar las fechas de creación de los dominios los que más llaman la atención, debido a su fecha de creación reciente, son:\n",
    "- ecvps.com\n",
    "- backtrack-linux.org\n",
    "- malwarecity.com\n",
    "\n",
    "Sin embargo, hay algunos dominios que no tienen fecha de creación asociada. Esto puede ser un indicador de que el dominio fue maliciosa o fraudulento en algun momento y fue eliminado. Estos dominios son:\n",
    "- 110phpmyadmin\n",
    "- bigflickrfeed.com\n",
    "- vtlfccmfxlkgifuf.com"
   ]
  },
  {
   "cell_type": "markdown",
   "metadata": {},
   "source": [
    "Basandose en la fechas de creación y los patrones de letras aleatorias encontrados en los tlds se puede inferir que los dominios que son maliciosos o fraudulentos son:\n",
    "- ecvps.com\n",
    "- vtlfccmfxlkgifuf.com"
   ]
  }
 ],
 "metadata": {
  "kernelspec": {
   "display_name": "Python 3",
   "language": "python",
   "name": "python3"
  },
  "language_info": {
   "codemirror_mode": {
    "name": "ipython",
    "version": 3
   },
   "file_extension": ".py",
   "mimetype": "text/x-python",
   "name": "python",
   "nbconvert_exporter": "python",
   "pygments_lexer": "ipython3",
   "version": "3.11.8"
  }
 },
 "nbformat": 4,
 "nbformat_minor": 2
}
